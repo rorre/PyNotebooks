{
  "nbformat": 4,
  "nbformat_minor": 0,
  "metadata": {
    "colab": {
      "name": "osu!ranked.ipynb",
      "provenance": [],
      "collapsed_sections": [],
      "authorship_tag": "ABX9TyNG65wmFPiKID19b6VAzLGi",
      "include_colab_link": true
    },
    "kernelspec": {
      "name": "python3",
      "display_name": "Python 3"
    }
  },
  "cells": [
    {
      "cell_type": "markdown",
      "metadata": {
        "id": "view-in-github",
        "colab_type": "text"
      },
      "source": [
        "<a href=\"https://colab.research.google.com/github/rorre/PyNotebooks/blob/master/osu!stuffs.ipynb\" target=\"_parent\"><img src=\"https://colab.research.google.com/assets/colab-badge.svg\" alt=\"Open In Colab\"/></a>"
      ]
    },
    {
      "cell_type": "markdown",
      "metadata": {
        "id": "akAjUce3raPV",
        "colab_type": "text"
      },
      "source": [
        "# osu! ranked data\n"
      ]
    },
    {
      "cell_type": "code",
      "metadata": {
        "id": "kBLxoVwSsbnH",
        "colab_type": "code",
        "cellView": "form",
        "colab": {}
      },
      "source": [
        "#@title Data Setup\n",
        "\n",
        "#@markdown API key could be gathered [here](https://osu.ppy.sh/p/api)\n",
        "api_key = \"\" #@param {type:\"string\"}\n",
        "\n",
        "#@markdown Starting data date\n",
        "starting_date = \"2020-07-20\" #@param {type:\"date\"}\n",
        "\n",
        "#@markdown Game mode\n",
        "gamemode = \"osu!\" #@param [\"osu!\", \"osu!taiko\", \"osu!catch\", \"osu!mania\"]\n",
        "\n",
        "_dropdown_values = {\n",
        "    \"osu!\": 0,\n",
        "    \"osu!taiko\": 1,\n",
        "    \"osu!catch\": 2,\n",
        "    \"osu!mania\": 3\n",
        "}\n",
        "_mode = _dropdown_values.get(gamemode, 0)\n",
        "\n"
      ],
      "execution_count": 1,
      "outputs": []
    },
    {
      "cell_type": "markdown",
      "metadata": {
        "id": "k9eCfNXbtVTB",
        "colab_type": "text"
      },
      "source": [
        "## Fetch data"
      ]
    },
    {
      "cell_type": "code",
      "metadata": {
        "id": "KlhHsyR8tX2x",
        "colab_type": "code",
        "colab": {
          "base_uri": "https://localhost:8080/",
          "height": 748
        },
        "outputId": "60396273-2a6f-4556-c925-69fce82c98aa"
      },
      "source": [
        "from pprint import pprint\n",
        "from datetime import date\n",
        "from dateutil.parser import parse\n",
        "\n",
        "import requests\n",
        "\n",
        "def find_earliest(beatmaps):\n",
        "  earliest = date.fromtimestamp(0)\n",
        "  for bm in beatmaps:\n",
        "    ranked_date = bm['approved_date'].split(\" \")[0]\n",
        "    current = parse(ranked_date).date()\n",
        "    if current > earliest:\n",
        "      earliest = current\n",
        "  \n",
        "  return earliest.isoformat()\n",
        "\n",
        "\n",
        "# Get all *ranked* beatmaps from starting point\n",
        "# If request reaches limit, find the earliest beatmap in the result and start\n",
        "# working again from that point up until response is less than the limit.\n",
        "results = []\n",
        "while True:\n",
        "  r = requests.get(\"https://osu.ppy.sh/api/get_beatmaps?k={}&m={}&since={}\".format(api_key, _mode, starting_date))\n",
        "  r.raise_for_status()\n",
        "\n",
        "  json_result = r.json()\n",
        "  if not json_result:\n",
        "    break\n",
        "\n",
        "  filtered_result = filter(lambda x: x[\"approved\"] == \"1\", json_result)\n",
        "  results.extend(list(filtered_result))\n",
        "\n",
        "  if len(json_result) == 500:\n",
        "    starting_date = find_earliest(json_result)\n",
        "  else:\n",
        "    break\n",
        "\n",
        "if not results:\n",
        "  raise Exception(\"No data returned from osu!.\")\n",
        "\n",
        "# Only print one sample data\n",
        "pprint(results[0])"
      ],
      "execution_count": 3,
      "outputs": [
        {
          "output_type": "stream",
          "text": [
            "{'approved': '1',\n",
            " 'approved_date': '2020-07-20 03:45:44',\n",
            " 'artist': 'Reol',\n",
            " 'artist_unicode': 'れをる',\n",
            " 'audio_unavailable': '0',\n",
            " 'beatmap_id': '2234222',\n",
            " 'beatmapset_id': '1067141',\n",
            " 'bpm': '140',\n",
            " 'count_normal': '450',\n",
            " 'count_slider': '553',\n",
            " 'count_spinner': '0',\n",
            " 'creator': 'vikala',\n",
            " 'creator_id': '2848604',\n",
            " 'diff_aim': '2.69452',\n",
            " 'diff_approach': '9.2',\n",
            " 'diff_drain': '6',\n",
            " 'diff_overall': '9',\n",
            " 'diff_size': '4.2',\n",
            " 'diff_speed': '2.56905',\n",
            " 'difficultyrating': '5.32631',\n",
            " 'download_unavailable': '0',\n",
            " 'favourite_count': '135',\n",
            " 'file_md5': 'a079e36c8a4a8abd4383d6168fbb91f4',\n",
            " 'genre_id': '5',\n",
            " 'hit_length': '231',\n",
            " 'language_id': '3',\n",
            " 'last_update': '2020-07-13 00:09:50',\n",
            " 'max_combo': '1613',\n",
            " 'mode': '0',\n",
            " 'packs': 'S911',\n",
            " 'passcount': '1233',\n",
            " 'playcount': '14562',\n",
            " 'rating': '8.86335',\n",
            " 'source': '',\n",
            " 'storyboard': '0',\n",
            " 'submit_date': '2019-11-18 01:31:37',\n",
            " 'tags': 'firika ioexception deadcode toybot giga okiku no title+ vocaloid '\n",
            "         'hatsune miku 初音ミク japanese pop',\n",
            " 'title': 'Hibikase',\n",
            " 'title_unicode': 'ヒビカセ',\n",
            " 'total_length': '237',\n",
            " 'version': 'Expert',\n",
            " 'video': '1'}\n"
          ],
          "name": "stdout"
        }
      ]
    },
    {
      "cell_type": "markdown",
      "metadata": {
        "id": "s9aXc54vD2IU",
        "colab_type": "text"
      },
      "source": [
        "## Populate data"
      ]
    },
    {
      "cell_type": "code",
      "metadata": {
        "id": "jhNv6GDpD39O",
        "colab_type": "code",
        "colab": {}
      },
      "source": [
        "# Populate data to a list.\n",
        "# Track for the maps that have been checked so it doesn't have duplicates.\n",
        "beatmaps = []\n",
        "checked_maps = []\n",
        "for beatmap in results:\n",
        "  mapset_id = beatmap['beatmapset_id']\n",
        "  if mapset_id in checked_maps:\n",
        "    continue\n",
        "  checked_maps.append(mapset_id)\n",
        "  beatmaps.append(beatmap)"
      ],
      "execution_count": 4,
      "outputs": []
    },
    {
      "cell_type": "markdown",
      "metadata": {
        "id": "D_jktZ3IDGPq",
        "colab_type": "text"
      },
      "source": [
        "## osu! ranked/day"
      ]
    },
    {
      "cell_type": "code",
      "metadata": {
        "id": "_n0tUUZTtbkz",
        "colab_type": "code",
        "colab": {
          "base_uri": "https://localhost:8080/",
          "height": 272
        },
        "outputId": "4afd5799-16b7-42cf-c967-63920c863047"
      },
      "source": [
        "from collections import Counter\n",
        "\n",
        "data_list = []\n",
        "for beatmap in beatmaps:\n",
        "  ranked_date = beatmap['approved_date'].split(\" \")[0]\n",
        "  data_list.append(ranked_date)\n",
        "\n",
        "c = Counter(data_list)\n",
        "for k, v in c.items():\n",
        "  print(f\"{k}: {v}\")"
      ],
      "execution_count": 5,
      "outputs": [
        {
          "output_type": "stream",
          "text": [
            "2020-07-20: 5\n",
            "2020-07-21: 4\n",
            "2020-07-22: 7\n",
            "2020-07-23: 5\n",
            "2020-07-24: 4\n",
            "2020-07-25: 4\n",
            "2020-07-26: 7\n",
            "2020-07-27: 3\n",
            "2020-07-28: 1\n",
            "2020-07-29: 6\n",
            "2020-07-30: 8\n",
            "2020-07-31: 3\n",
            "2020-08-01: 8\n",
            "2020-08-02: 7\n",
            "2020-08-03: 2\n"
          ],
          "name": "stdout"
        }
      ]
    },
    {
      "cell_type": "markdown",
      "metadata": {
        "id": "-PYVUJ3oyfvL",
        "colab_type": "text"
      },
      "source": [
        "### Plot data"
      ]
    },
    {
      "cell_type": "code",
      "metadata": {
        "id": "OvJEtFE_yg-h",
        "colab_type": "code",
        "colab": {
          "base_uri": "https://localhost:8080/",
          "height": 542
        },
        "outputId": "bdbd0984-db39-4296-af78-63e78a291d20"
      },
      "source": [
        "import plotly.graph_objects as go\n",
        "\n",
        "x = []\n",
        "y = []\n",
        "for k, v in c.items():\n",
        "  x.append(k)\n",
        "  y.append(v)\n",
        "\n",
        "fig = go.Figure()\n",
        "fig.add_trace(go.Scatter(x=x, y=y, mode='lines'))\n",
        "fig.show()"
      ],
      "execution_count": 6,
      "outputs": [
        {
          "output_type": "display_data",
          "data": {
            "text/html": [
              "<html>\n",
              "<head><meta charset=\"utf-8\" /></head>\n",
              "<body>\n",
              "    <div>\n",
              "            <script src=\"https://cdnjs.cloudflare.com/ajax/libs/mathjax/2.7.5/MathJax.js?config=TeX-AMS-MML_SVG\"></script><script type=\"text/javascript\">if (window.MathJax) {MathJax.Hub.Config({SVG: {font: \"STIX-Web\"}});}</script>\n",
              "                <script type=\"text/javascript\">window.PlotlyConfig = {MathJaxConfig: 'local'};</script>\n",
              "        <script src=\"https://cdn.plot.ly/plotly-latest.min.js\"></script>    \n",
              "            <div id=\"690e3a3b-a450-43d8-beed-42855750f88c\" class=\"plotly-graph-div\" style=\"height:525px; width:100%;\"></div>\n",
              "            <script type=\"text/javascript\">\n",
              "                \n",
              "                    window.PLOTLYENV=window.PLOTLYENV || {};\n",
              "                    \n",
              "                if (document.getElementById(\"690e3a3b-a450-43d8-beed-42855750f88c\")) {\n",
              "                    Plotly.newPlot(\n",
              "                        '690e3a3b-a450-43d8-beed-42855750f88c',\n",
              "                        [{\"mode\": \"lines\", \"type\": \"scatter\", \"x\": [\"2020-07-20\", \"2020-07-21\", \"2020-07-22\", \"2020-07-23\", \"2020-07-24\", \"2020-07-25\", \"2020-07-26\", \"2020-07-27\", \"2020-07-28\", \"2020-07-29\", \"2020-07-30\", \"2020-07-31\", \"2020-08-01\", \"2020-08-02\", \"2020-08-03\"], \"y\": [5, 4, 7, 5, 4, 4, 7, 3, 1, 6, 8, 3, 8, 7, 2]}],\n",
              "                        {\"template\": {\"data\": {\"bar\": [{\"error_x\": {\"color\": \"#2a3f5f\"}, \"error_y\": {\"color\": \"#2a3f5f\"}, \"marker\": {\"line\": {\"color\": \"#E5ECF6\", \"width\": 0.5}}, \"type\": \"bar\"}], \"barpolar\": [{\"marker\": {\"line\": {\"color\": \"#E5ECF6\", \"width\": 0.5}}, \"type\": \"barpolar\"}], \"carpet\": [{\"aaxis\": {\"endlinecolor\": \"#2a3f5f\", \"gridcolor\": \"white\", \"linecolor\": \"white\", \"minorgridcolor\": \"white\", \"startlinecolor\": \"#2a3f5f\"}, \"baxis\": {\"endlinecolor\": \"#2a3f5f\", \"gridcolor\": \"white\", \"linecolor\": \"white\", \"minorgridcolor\": \"white\", \"startlinecolor\": \"#2a3f5f\"}, \"type\": \"carpet\"}], \"choropleth\": [{\"colorbar\": {\"outlinewidth\": 0, \"ticks\": \"\"}, \"type\": \"choropleth\"}], \"contour\": [{\"colorbar\": {\"outlinewidth\": 0, \"ticks\": \"\"}, \"colorscale\": [[0.0, \"#0d0887\"], [0.1111111111111111, \"#46039f\"], [0.2222222222222222, \"#7201a8\"], [0.3333333333333333, \"#9c179e\"], [0.4444444444444444, \"#bd3786\"], [0.5555555555555556, \"#d8576b\"], [0.6666666666666666, \"#ed7953\"], [0.7777777777777778, \"#fb9f3a\"], [0.8888888888888888, \"#fdca26\"], [1.0, \"#f0f921\"]], \"type\": \"contour\"}], \"contourcarpet\": [{\"colorbar\": {\"outlinewidth\": 0, \"ticks\": \"\"}, \"type\": \"contourcarpet\"}], \"heatmap\": [{\"colorbar\": {\"outlinewidth\": 0, \"ticks\": \"\"}, \"colorscale\": [[0.0, \"#0d0887\"], [0.1111111111111111, \"#46039f\"], [0.2222222222222222, \"#7201a8\"], [0.3333333333333333, \"#9c179e\"], [0.4444444444444444, \"#bd3786\"], [0.5555555555555556, \"#d8576b\"], [0.6666666666666666, \"#ed7953\"], [0.7777777777777778, \"#fb9f3a\"], [0.8888888888888888, \"#fdca26\"], [1.0, \"#f0f921\"]], \"type\": \"heatmap\"}], \"heatmapgl\": [{\"colorbar\": {\"outlinewidth\": 0, \"ticks\": \"\"}, \"colorscale\": [[0.0, \"#0d0887\"], [0.1111111111111111, \"#46039f\"], [0.2222222222222222, \"#7201a8\"], [0.3333333333333333, \"#9c179e\"], [0.4444444444444444, \"#bd3786\"], [0.5555555555555556, \"#d8576b\"], [0.6666666666666666, \"#ed7953\"], [0.7777777777777778, \"#fb9f3a\"], [0.8888888888888888, \"#fdca26\"], [1.0, \"#f0f921\"]], \"type\": \"heatmapgl\"}], \"histogram\": [{\"marker\": {\"colorbar\": {\"outlinewidth\": 0, \"ticks\": \"\"}}, \"type\": \"histogram\"}], \"histogram2d\": [{\"colorbar\": {\"outlinewidth\": 0, \"ticks\": \"\"}, \"colorscale\": [[0.0, \"#0d0887\"], [0.1111111111111111, \"#46039f\"], [0.2222222222222222, \"#7201a8\"], [0.3333333333333333, \"#9c179e\"], [0.4444444444444444, \"#bd3786\"], [0.5555555555555556, \"#d8576b\"], [0.6666666666666666, \"#ed7953\"], [0.7777777777777778, \"#fb9f3a\"], [0.8888888888888888, \"#fdca26\"], [1.0, \"#f0f921\"]], \"type\": \"histogram2d\"}], \"histogram2dcontour\": [{\"colorbar\": {\"outlinewidth\": 0, \"ticks\": \"\"}, \"colorscale\": [[0.0, \"#0d0887\"], [0.1111111111111111, \"#46039f\"], [0.2222222222222222, \"#7201a8\"], [0.3333333333333333, \"#9c179e\"], [0.4444444444444444, \"#bd3786\"], [0.5555555555555556, \"#d8576b\"], [0.6666666666666666, \"#ed7953\"], [0.7777777777777778, \"#fb9f3a\"], [0.8888888888888888, \"#fdca26\"], [1.0, \"#f0f921\"]], \"type\": \"histogram2dcontour\"}], \"mesh3d\": [{\"colorbar\": {\"outlinewidth\": 0, \"ticks\": \"\"}, \"type\": \"mesh3d\"}], \"parcoords\": [{\"line\": {\"colorbar\": {\"outlinewidth\": 0, \"ticks\": \"\"}}, \"type\": \"parcoords\"}], \"pie\": [{\"automargin\": true, \"type\": \"pie\"}], \"scatter\": [{\"marker\": {\"colorbar\": {\"outlinewidth\": 0, \"ticks\": \"\"}}, \"type\": \"scatter\"}], \"scatter3d\": [{\"line\": {\"colorbar\": {\"outlinewidth\": 0, \"ticks\": \"\"}}, \"marker\": {\"colorbar\": {\"outlinewidth\": 0, \"ticks\": \"\"}}, \"type\": \"scatter3d\"}], \"scattercarpet\": [{\"marker\": {\"colorbar\": {\"outlinewidth\": 0, \"ticks\": \"\"}}, \"type\": \"scattercarpet\"}], \"scattergeo\": [{\"marker\": {\"colorbar\": {\"outlinewidth\": 0, \"ticks\": \"\"}}, \"type\": \"scattergeo\"}], \"scattergl\": [{\"marker\": {\"colorbar\": {\"outlinewidth\": 0, \"ticks\": \"\"}}, \"type\": \"scattergl\"}], \"scattermapbox\": [{\"marker\": {\"colorbar\": {\"outlinewidth\": 0, \"ticks\": \"\"}}, \"type\": \"scattermapbox\"}], \"scatterpolar\": [{\"marker\": {\"colorbar\": {\"outlinewidth\": 0, \"ticks\": \"\"}}, \"type\": \"scatterpolar\"}], \"scatterpolargl\": [{\"marker\": {\"colorbar\": {\"outlinewidth\": 0, \"ticks\": \"\"}}, \"type\": \"scatterpolargl\"}], \"scatterternary\": [{\"marker\": {\"colorbar\": {\"outlinewidth\": 0, \"ticks\": \"\"}}, \"type\": \"scatterternary\"}], \"surface\": [{\"colorbar\": {\"outlinewidth\": 0, \"ticks\": \"\"}, \"colorscale\": [[0.0, \"#0d0887\"], [0.1111111111111111, \"#46039f\"], [0.2222222222222222, \"#7201a8\"], [0.3333333333333333, \"#9c179e\"], [0.4444444444444444, \"#bd3786\"], [0.5555555555555556, \"#d8576b\"], [0.6666666666666666, \"#ed7953\"], [0.7777777777777778, \"#fb9f3a\"], [0.8888888888888888, \"#fdca26\"], [1.0, \"#f0f921\"]], \"type\": \"surface\"}], \"table\": [{\"cells\": {\"fill\": {\"color\": \"#EBF0F8\"}, \"line\": {\"color\": \"white\"}}, \"header\": {\"fill\": {\"color\": \"#C8D4E3\"}, \"line\": {\"color\": \"white\"}}, \"type\": \"table\"}]}, \"layout\": {\"annotationdefaults\": {\"arrowcolor\": \"#2a3f5f\", \"arrowhead\": 0, \"arrowwidth\": 1}, \"coloraxis\": {\"colorbar\": {\"outlinewidth\": 0, \"ticks\": \"\"}}, \"colorscale\": {\"diverging\": [[0, \"#8e0152\"], [0.1, \"#c51b7d\"], [0.2, \"#de77ae\"], [0.3, \"#f1b6da\"], [0.4, \"#fde0ef\"], [0.5, \"#f7f7f7\"], [0.6, \"#e6f5d0\"], [0.7, \"#b8e186\"], [0.8, \"#7fbc41\"], [0.9, \"#4d9221\"], [1, \"#276419\"]], \"sequential\": [[0.0, \"#0d0887\"], [0.1111111111111111, \"#46039f\"], [0.2222222222222222, \"#7201a8\"], [0.3333333333333333, \"#9c179e\"], [0.4444444444444444, \"#bd3786\"], [0.5555555555555556, \"#d8576b\"], [0.6666666666666666, \"#ed7953\"], [0.7777777777777778, \"#fb9f3a\"], [0.8888888888888888, \"#fdca26\"], [1.0, \"#f0f921\"]], \"sequentialminus\": [[0.0, \"#0d0887\"], [0.1111111111111111, \"#46039f\"], [0.2222222222222222, \"#7201a8\"], [0.3333333333333333, \"#9c179e\"], [0.4444444444444444, \"#bd3786\"], [0.5555555555555556, \"#d8576b\"], [0.6666666666666666, \"#ed7953\"], [0.7777777777777778, \"#fb9f3a\"], [0.8888888888888888, \"#fdca26\"], [1.0, \"#f0f921\"]]}, \"colorway\": [\"#636efa\", \"#EF553B\", \"#00cc96\", \"#ab63fa\", \"#FFA15A\", \"#19d3f3\", \"#FF6692\", \"#B6E880\", \"#FF97FF\", \"#FECB52\"], \"font\": {\"color\": \"#2a3f5f\"}, \"geo\": {\"bgcolor\": \"white\", \"lakecolor\": \"white\", \"landcolor\": \"#E5ECF6\", \"showlakes\": true, \"showland\": true, \"subunitcolor\": \"white\"}, \"hoverlabel\": {\"align\": \"left\"}, \"hovermode\": \"closest\", \"mapbox\": {\"style\": \"light\"}, \"paper_bgcolor\": \"white\", \"plot_bgcolor\": \"#E5ECF6\", \"polar\": {\"angularaxis\": {\"gridcolor\": \"white\", \"linecolor\": \"white\", \"ticks\": \"\"}, \"bgcolor\": \"#E5ECF6\", \"radialaxis\": {\"gridcolor\": \"white\", \"linecolor\": \"white\", \"ticks\": \"\"}}, \"scene\": {\"xaxis\": {\"backgroundcolor\": \"#E5ECF6\", \"gridcolor\": \"white\", \"gridwidth\": 2, \"linecolor\": \"white\", \"showbackground\": true, \"ticks\": \"\", \"zerolinecolor\": \"white\"}, \"yaxis\": {\"backgroundcolor\": \"#E5ECF6\", \"gridcolor\": \"white\", \"gridwidth\": 2, \"linecolor\": \"white\", \"showbackground\": true, \"ticks\": \"\", \"zerolinecolor\": \"white\"}, \"zaxis\": {\"backgroundcolor\": \"#E5ECF6\", \"gridcolor\": \"white\", \"gridwidth\": 2, \"linecolor\": \"white\", \"showbackground\": true, \"ticks\": \"\", \"zerolinecolor\": \"white\"}}, \"shapedefaults\": {\"line\": {\"color\": \"#2a3f5f\"}}, \"ternary\": {\"aaxis\": {\"gridcolor\": \"white\", \"linecolor\": \"white\", \"ticks\": \"\"}, \"baxis\": {\"gridcolor\": \"white\", \"linecolor\": \"white\", \"ticks\": \"\"}, \"bgcolor\": \"#E5ECF6\", \"caxis\": {\"gridcolor\": \"white\", \"linecolor\": \"white\", \"ticks\": \"\"}}, \"title\": {\"x\": 0.05}, \"xaxis\": {\"automargin\": true, \"gridcolor\": \"white\", \"linecolor\": \"white\", \"ticks\": \"\", \"title\": {\"standoff\": 15}, \"zerolinecolor\": \"white\", \"zerolinewidth\": 2}, \"yaxis\": {\"automargin\": true, \"gridcolor\": \"white\", \"linecolor\": \"white\", \"ticks\": \"\", \"title\": {\"standoff\": 15}, \"zerolinecolor\": \"white\", \"zerolinewidth\": 2}}}},\n",
              "                        {\"responsive\": true}\n",
              "                    ).then(function(){\n",
              "                            \n",
              "var gd = document.getElementById('690e3a3b-a450-43d8-beed-42855750f88c');\n",
              "var x = new MutationObserver(function (mutations, observer) {{\n",
              "        var display = window.getComputedStyle(gd).display;\n",
              "        if (!display || display === 'none') {{\n",
              "            console.log([gd, 'removed!']);\n",
              "            Plotly.purge(gd);\n",
              "            observer.disconnect();\n",
              "        }}\n",
              "}});\n",
              "\n",
              "// Listen for the removal of the full notebook cells\n",
              "var notebookContainer = gd.closest('#notebook-container');\n",
              "if (notebookContainer) {{\n",
              "    x.observe(notebookContainer, {childList: true});\n",
              "}}\n",
              "\n",
              "// Listen for the clearing of the current output cell\n",
              "var outputEl = gd.closest('.output');\n",
              "if (outputEl) {{\n",
              "    x.observe(outputEl, {childList: true});\n",
              "}}\n",
              "\n",
              "                        })\n",
              "                };\n",
              "                \n",
              "            </script>\n",
              "        </div>\n",
              "</body>\n",
              "</html>"
            ]
          },
          "metadata": {
            "tags": []
          }
        }
      ]
    },
    {
      "cell_type": "markdown",
      "metadata": {
        "id": "CNK8cJJdDpSF",
        "colab_type": "text"
      },
      "source": [
        "## osu! mapper"
      ]
    },
    {
      "cell_type": "code",
      "metadata": {
        "id": "C3msIF_TDuJ7",
        "colab_type": "code",
        "colab": {
          "base_uri": "https://localhost:8080/",
          "height": 1000
        },
        "outputId": "73e3bfac-0987-43a0-a4f9-5c97f4659163"
      },
      "source": [
        "from collections import Counter\n",
        "\n",
        "mappers = []\n",
        "for beatmap in beatmaps:\n",
        "  mappers.append(beatmap['creator'])\n",
        "\n",
        "c = Counter(mappers)\n",
        "for k, v in c.items():\n",
        "  print(f\"{k}: {v}\")"
      ],
      "execution_count": 7,
      "outputs": [
        {
          "output_type": "stream",
          "text": [
            "vikala: 1\n",
            "Petal: 2\n",
            "Mirash: 1\n",
            "- ascended -: 2\n",
            "ShirohaMyMommy: 1\n",
            "-Aqua: 1\n",
            "Sotarks: 3\n",
            "Rosiie: 1\n",
            "Smoke: 1\n",
            "Chaoslitz: 1\n",
            "Sylvarus: 1\n",
            "Nevo: 2\n",
            "Zer0-: 1\n",
            "Sarawatlism: 1\n",
            "SMOKELIND: 2\n",
            "lewski: 1\n",
            "[-Evil-]: 1\n",
            "Yumerios: 1\n",
            "Elinor: 1\n",
            "Blitzifyyy: 1\n",
            "emu1337: 1\n",
            "Stack: 1\n",
            "domSaur: 1\n",
            "Silent Rock: 1\n",
            "Doormat: 1\n",
            "Parachute: 1\n",
            "Krisom: 1\n",
            "Heilia: 1\n",
            "Yohanes: 1\n",
            "X Light: 1\n",
            "Seolv: 1\n",
            "Agatsu: 2\n",
            "Setu: 1\n",
            "Moko: 1\n",
            "UberFazz: 1\n",
            "Fall: 2\n",
            "-Atri-: 1\n",
            "Xandit: 1\n",
            "Lunala: 1\n",
            "-Mikan: 1\n",
            "Mordred: 1\n",
            "Crissa: 2\n",
            "Hachiko: 1\n",
            "Akino Hana: 1\n",
            "Daycore: 1\n",
            "papple104: 1\n",
            "Toyosaki Aki: 1\n",
            "wafer: 1\n",
            "Amateurre: 1\n",
            "DuckRadio: 1\n",
            "AirinCat: 1\n",
            "Frostings: 1\n",
            "Sephira: 1\n",
            "dkblaze: 1\n",
            "browiec: 1\n",
            "SaltyLucario: 1\n",
            "Luscent: 1\n",
            "Hey lululu: 1\n",
            "Akito: 1\n",
            "Melwoine: 1\n",
            "Addy2607: 1\n",
            "HeTo: 1\n",
            "SuperDalouBot: 1\n",
            "Roger: 1\n",
            "Cellina: 1\n"
          ],
          "name": "stdout"
        }
      ]
    },
    {
      "cell_type": "markdown",
      "metadata": {
        "id": "FKq4Tq__E-KY",
        "colab_type": "text"
      },
      "source": [
        "### Plot data"
      ]
    },
    {
      "cell_type": "code",
      "metadata": {
        "id": "ZqGBkRB8E_LW",
        "colab_type": "code",
        "colab": {
          "base_uri": "https://localhost:8080/",
          "height": 542
        },
        "outputId": "8648906c-6c02-4fba-e408-279addb3f3a9"
      },
      "source": [
        "import plotly.graph_objects as go\n",
        "import numpy as np\n",
        "\n",
        "def random_rgb():\n",
        "  colors_int = list(np.random.choice(range(256), size=3))\n",
        "  colors = list(map(str, colors_int))\n",
        "  return f\"rgb({', '.join(colors)})\"\n",
        "\n",
        "def calculate_size(size, max):\n",
        "  return 200 * (size / max)\n",
        "\n",
        "x = []\n",
        "y = []\n",
        "for k, v in c.most_common():\n",
        "  x.append(k)\n",
        "  y.append(v)\n",
        "max_y = max(y)\n",
        "\n",
        "bars = go.Bar(x=x, y=y)\n",
        "fig = go.Figure(data=[bars])\n",
        "fig.show()"
      ],
      "execution_count": 8,
      "outputs": [
        {
          "output_type": "display_data",
          "data": {
            "text/html": [
              "<html>\n",
              "<head><meta charset=\"utf-8\" /></head>\n",
              "<body>\n",
              "    <div>\n",
              "            <script src=\"https://cdnjs.cloudflare.com/ajax/libs/mathjax/2.7.5/MathJax.js?config=TeX-AMS-MML_SVG\"></script><script type=\"text/javascript\">if (window.MathJax) {MathJax.Hub.Config({SVG: {font: \"STIX-Web\"}});}</script>\n",
              "                <script type=\"text/javascript\">window.PlotlyConfig = {MathJaxConfig: 'local'};</script>\n",
              "        <script src=\"https://cdn.plot.ly/plotly-latest.min.js\"></script>    \n",
              "            <div id=\"c6c23add-a691-4c0e-96fe-c516dedf8edc\" class=\"plotly-graph-div\" style=\"height:525px; width:100%;\"></div>\n",
              "            <script type=\"text/javascript\">\n",
              "                \n",
              "                    window.PLOTLYENV=window.PLOTLYENV || {};\n",
              "                    \n",
              "                if (document.getElementById(\"c6c23add-a691-4c0e-96fe-c516dedf8edc\")) {\n",
              "                    Plotly.newPlot(\n",
              "                        'c6c23add-a691-4c0e-96fe-c516dedf8edc',\n",
              "                        [{\"type\": \"bar\", \"x\": [\"Sotarks\", \"Petal\", \"- ascended -\", \"Nevo\", \"SMOKELIND\", \"Agatsu\", \"Fall\", \"Crissa\", \"vikala\", \"Mirash\", \"ShirohaMyMommy\", \"-Aqua\", \"Rosiie\", \"Smoke\", \"Chaoslitz\", \"Sylvarus\", \"Zer0-\", \"Sarawatlism\", \"lewski\", \"[-Evil-]\", \"Yumerios\", \"Elinor\", \"Blitzifyyy\", \"emu1337\", \"Stack\", \"domSaur\", \"Silent Rock\", \"Doormat\", \"Parachute\", \"Krisom\", \"Heilia\", \"Yohanes\", \"X Light\", \"Seolv\", \"Setu\", \"Moko\", \"UberFazz\", \"-Atri-\", \"Xandit\", \"Lunala\", \"-Mikan\", \"Mordred\", \"Hachiko\", \"Akino Hana\", \"Daycore\", \"papple104\", \"Toyosaki Aki\", \"wafer\", \"Amateurre\", \"DuckRadio\", \"AirinCat\", \"Frostings\", \"Sephira\", \"dkblaze\", \"browiec\", \"SaltyLucario\", \"Luscent\", \"Hey lululu\", \"Akito\", \"Melwoine\", \"Addy2607\", \"HeTo\", \"SuperDalouBot\", \"Roger\", \"Cellina\"], \"y\": [3, 2, 2, 2, 2, 2, 2, 2, 1, 1, 1, 1, 1, 1, 1, 1, 1, 1, 1, 1, 1, 1, 1, 1, 1, 1, 1, 1, 1, 1, 1, 1, 1, 1, 1, 1, 1, 1, 1, 1, 1, 1, 1, 1, 1, 1, 1, 1, 1, 1, 1, 1, 1, 1, 1, 1, 1, 1, 1, 1, 1, 1, 1, 1, 1]}],\n",
              "                        {\"template\": {\"data\": {\"bar\": [{\"error_x\": {\"color\": \"#2a3f5f\"}, \"error_y\": {\"color\": \"#2a3f5f\"}, \"marker\": {\"line\": {\"color\": \"#E5ECF6\", \"width\": 0.5}}, \"type\": \"bar\"}], \"barpolar\": [{\"marker\": {\"line\": {\"color\": \"#E5ECF6\", \"width\": 0.5}}, \"type\": \"barpolar\"}], \"carpet\": [{\"aaxis\": {\"endlinecolor\": \"#2a3f5f\", \"gridcolor\": \"white\", \"linecolor\": \"white\", \"minorgridcolor\": \"white\", \"startlinecolor\": \"#2a3f5f\"}, \"baxis\": {\"endlinecolor\": \"#2a3f5f\", \"gridcolor\": \"white\", \"linecolor\": \"white\", \"minorgridcolor\": \"white\", \"startlinecolor\": \"#2a3f5f\"}, \"type\": \"carpet\"}], \"choropleth\": [{\"colorbar\": {\"outlinewidth\": 0, \"ticks\": \"\"}, \"type\": \"choropleth\"}], \"contour\": [{\"colorbar\": {\"outlinewidth\": 0, \"ticks\": \"\"}, \"colorscale\": [[0.0, \"#0d0887\"], [0.1111111111111111, \"#46039f\"], [0.2222222222222222, \"#7201a8\"], [0.3333333333333333, \"#9c179e\"], [0.4444444444444444, \"#bd3786\"], [0.5555555555555556, \"#d8576b\"], [0.6666666666666666, \"#ed7953\"], [0.7777777777777778, \"#fb9f3a\"], [0.8888888888888888, \"#fdca26\"], [1.0, \"#f0f921\"]], \"type\": \"contour\"}], \"contourcarpet\": [{\"colorbar\": {\"outlinewidth\": 0, \"ticks\": \"\"}, \"type\": \"contourcarpet\"}], \"heatmap\": [{\"colorbar\": {\"outlinewidth\": 0, \"ticks\": \"\"}, \"colorscale\": [[0.0, \"#0d0887\"], [0.1111111111111111, \"#46039f\"], [0.2222222222222222, \"#7201a8\"], [0.3333333333333333, \"#9c179e\"], [0.4444444444444444, \"#bd3786\"], [0.5555555555555556, \"#d8576b\"], [0.6666666666666666, \"#ed7953\"], [0.7777777777777778, \"#fb9f3a\"], [0.8888888888888888, \"#fdca26\"], [1.0, \"#f0f921\"]], \"type\": \"heatmap\"}], \"heatmapgl\": [{\"colorbar\": {\"outlinewidth\": 0, \"ticks\": \"\"}, \"colorscale\": [[0.0, \"#0d0887\"], [0.1111111111111111, \"#46039f\"], [0.2222222222222222, \"#7201a8\"], [0.3333333333333333, \"#9c179e\"], [0.4444444444444444, \"#bd3786\"], [0.5555555555555556, \"#d8576b\"], [0.6666666666666666, \"#ed7953\"], [0.7777777777777778, \"#fb9f3a\"], [0.8888888888888888, \"#fdca26\"], [1.0, \"#f0f921\"]], \"type\": \"heatmapgl\"}], \"histogram\": [{\"marker\": {\"colorbar\": {\"outlinewidth\": 0, \"ticks\": \"\"}}, \"type\": \"histogram\"}], \"histogram2d\": [{\"colorbar\": {\"outlinewidth\": 0, \"ticks\": \"\"}, \"colorscale\": [[0.0, \"#0d0887\"], [0.1111111111111111, \"#46039f\"], [0.2222222222222222, \"#7201a8\"], [0.3333333333333333, \"#9c179e\"], [0.4444444444444444, \"#bd3786\"], [0.5555555555555556, \"#d8576b\"], [0.6666666666666666, \"#ed7953\"], [0.7777777777777778, \"#fb9f3a\"], [0.8888888888888888, \"#fdca26\"], [1.0, \"#f0f921\"]], \"type\": \"histogram2d\"}], \"histogram2dcontour\": [{\"colorbar\": {\"outlinewidth\": 0, \"ticks\": \"\"}, \"colorscale\": [[0.0, \"#0d0887\"], [0.1111111111111111, \"#46039f\"], [0.2222222222222222, \"#7201a8\"], [0.3333333333333333, \"#9c179e\"], [0.4444444444444444, \"#bd3786\"], [0.5555555555555556, \"#d8576b\"], [0.6666666666666666, \"#ed7953\"], [0.7777777777777778, \"#fb9f3a\"], [0.8888888888888888, \"#fdca26\"], [1.0, \"#f0f921\"]], \"type\": \"histogram2dcontour\"}], \"mesh3d\": [{\"colorbar\": {\"outlinewidth\": 0, \"ticks\": \"\"}, \"type\": \"mesh3d\"}], \"parcoords\": [{\"line\": {\"colorbar\": {\"outlinewidth\": 0, \"ticks\": \"\"}}, \"type\": \"parcoords\"}], \"pie\": [{\"automargin\": true, \"type\": \"pie\"}], \"scatter\": [{\"marker\": {\"colorbar\": {\"outlinewidth\": 0, \"ticks\": \"\"}}, \"type\": \"scatter\"}], \"scatter3d\": [{\"line\": {\"colorbar\": {\"outlinewidth\": 0, \"ticks\": \"\"}}, \"marker\": {\"colorbar\": {\"outlinewidth\": 0, \"ticks\": \"\"}}, \"type\": \"scatter3d\"}], \"scattercarpet\": [{\"marker\": {\"colorbar\": {\"outlinewidth\": 0, \"ticks\": \"\"}}, \"type\": \"scattercarpet\"}], \"scattergeo\": [{\"marker\": {\"colorbar\": {\"outlinewidth\": 0, \"ticks\": \"\"}}, \"type\": \"scattergeo\"}], \"scattergl\": [{\"marker\": {\"colorbar\": {\"outlinewidth\": 0, \"ticks\": \"\"}}, \"type\": \"scattergl\"}], \"scattermapbox\": [{\"marker\": {\"colorbar\": {\"outlinewidth\": 0, \"ticks\": \"\"}}, \"type\": \"scattermapbox\"}], \"scatterpolar\": [{\"marker\": {\"colorbar\": {\"outlinewidth\": 0, \"ticks\": \"\"}}, \"type\": \"scatterpolar\"}], \"scatterpolargl\": [{\"marker\": {\"colorbar\": {\"outlinewidth\": 0, \"ticks\": \"\"}}, \"type\": \"scatterpolargl\"}], \"scatterternary\": [{\"marker\": {\"colorbar\": {\"outlinewidth\": 0, \"ticks\": \"\"}}, \"type\": \"scatterternary\"}], \"surface\": [{\"colorbar\": {\"outlinewidth\": 0, \"ticks\": \"\"}, \"colorscale\": [[0.0, \"#0d0887\"], [0.1111111111111111, \"#46039f\"], [0.2222222222222222, \"#7201a8\"], [0.3333333333333333, \"#9c179e\"], [0.4444444444444444, \"#bd3786\"], [0.5555555555555556, \"#d8576b\"], [0.6666666666666666, \"#ed7953\"], [0.7777777777777778, \"#fb9f3a\"], [0.8888888888888888, \"#fdca26\"], [1.0, \"#f0f921\"]], \"type\": \"surface\"}], \"table\": [{\"cells\": {\"fill\": {\"color\": \"#EBF0F8\"}, \"line\": {\"color\": \"white\"}}, \"header\": {\"fill\": {\"color\": \"#C8D4E3\"}, \"line\": {\"color\": \"white\"}}, \"type\": \"table\"}]}, \"layout\": {\"annotationdefaults\": {\"arrowcolor\": \"#2a3f5f\", \"arrowhead\": 0, \"arrowwidth\": 1}, \"coloraxis\": {\"colorbar\": {\"outlinewidth\": 0, \"ticks\": \"\"}}, \"colorscale\": {\"diverging\": [[0, \"#8e0152\"], [0.1, \"#c51b7d\"], [0.2, \"#de77ae\"], [0.3, \"#f1b6da\"], [0.4, \"#fde0ef\"], [0.5, \"#f7f7f7\"], [0.6, \"#e6f5d0\"], [0.7, \"#b8e186\"], [0.8, \"#7fbc41\"], [0.9, \"#4d9221\"], [1, \"#276419\"]], \"sequential\": [[0.0, \"#0d0887\"], [0.1111111111111111, \"#46039f\"], [0.2222222222222222, \"#7201a8\"], [0.3333333333333333, \"#9c179e\"], [0.4444444444444444, \"#bd3786\"], [0.5555555555555556, \"#d8576b\"], [0.6666666666666666, \"#ed7953\"], [0.7777777777777778, \"#fb9f3a\"], [0.8888888888888888, \"#fdca26\"], [1.0, \"#f0f921\"]], \"sequentialminus\": [[0.0, \"#0d0887\"], [0.1111111111111111, \"#46039f\"], [0.2222222222222222, \"#7201a8\"], [0.3333333333333333, \"#9c179e\"], [0.4444444444444444, \"#bd3786\"], [0.5555555555555556, \"#d8576b\"], [0.6666666666666666, \"#ed7953\"], [0.7777777777777778, \"#fb9f3a\"], [0.8888888888888888, \"#fdca26\"], [1.0, \"#f0f921\"]]}, \"colorway\": [\"#636efa\", \"#EF553B\", \"#00cc96\", \"#ab63fa\", \"#FFA15A\", \"#19d3f3\", \"#FF6692\", \"#B6E880\", \"#FF97FF\", \"#FECB52\"], \"font\": {\"color\": \"#2a3f5f\"}, \"geo\": {\"bgcolor\": \"white\", \"lakecolor\": \"white\", \"landcolor\": \"#E5ECF6\", \"showlakes\": true, \"showland\": true, \"subunitcolor\": \"white\"}, \"hoverlabel\": {\"align\": \"left\"}, \"hovermode\": \"closest\", \"mapbox\": {\"style\": \"light\"}, \"paper_bgcolor\": \"white\", \"plot_bgcolor\": \"#E5ECF6\", \"polar\": {\"angularaxis\": {\"gridcolor\": \"white\", \"linecolor\": \"white\", \"ticks\": \"\"}, \"bgcolor\": \"#E5ECF6\", \"radialaxis\": {\"gridcolor\": \"white\", \"linecolor\": \"white\", \"ticks\": \"\"}}, \"scene\": {\"xaxis\": {\"backgroundcolor\": \"#E5ECF6\", \"gridcolor\": \"white\", \"gridwidth\": 2, \"linecolor\": \"white\", \"showbackground\": true, \"ticks\": \"\", \"zerolinecolor\": \"white\"}, \"yaxis\": {\"backgroundcolor\": \"#E5ECF6\", \"gridcolor\": \"white\", \"gridwidth\": 2, \"linecolor\": \"white\", \"showbackground\": true, \"ticks\": \"\", \"zerolinecolor\": \"white\"}, \"zaxis\": {\"backgroundcolor\": \"#E5ECF6\", \"gridcolor\": \"white\", \"gridwidth\": 2, \"linecolor\": \"white\", \"showbackground\": true, \"ticks\": \"\", \"zerolinecolor\": \"white\"}}, \"shapedefaults\": {\"line\": {\"color\": \"#2a3f5f\"}}, \"ternary\": {\"aaxis\": {\"gridcolor\": \"white\", \"linecolor\": \"white\", \"ticks\": \"\"}, \"baxis\": {\"gridcolor\": \"white\", \"linecolor\": \"white\", \"ticks\": \"\"}, \"bgcolor\": \"#E5ECF6\", \"caxis\": {\"gridcolor\": \"white\", \"linecolor\": \"white\", \"ticks\": \"\"}}, \"title\": {\"x\": 0.05}, \"xaxis\": {\"automargin\": true, \"gridcolor\": \"white\", \"linecolor\": \"white\", \"ticks\": \"\", \"title\": {\"standoff\": 15}, \"zerolinecolor\": \"white\", \"zerolinewidth\": 2}, \"yaxis\": {\"automargin\": true, \"gridcolor\": \"white\", \"linecolor\": \"white\", \"ticks\": \"\", \"title\": {\"standoff\": 15}, \"zerolinecolor\": \"white\", \"zerolinewidth\": 2}}}},\n",
              "                        {\"responsive\": true}\n",
              "                    ).then(function(){\n",
              "                            \n",
              "var gd = document.getElementById('c6c23add-a691-4c0e-96fe-c516dedf8edc');\n",
              "var x = new MutationObserver(function (mutations, observer) {{\n",
              "        var display = window.getComputedStyle(gd).display;\n",
              "        if (!display || display === 'none') {{\n",
              "            console.log([gd, 'removed!']);\n",
              "            Plotly.purge(gd);\n",
              "            observer.disconnect();\n",
              "        }}\n",
              "}});\n",
              "\n",
              "// Listen for the removal of the full notebook cells\n",
              "var notebookContainer = gd.closest('#notebook-container');\n",
              "if (notebookContainer) {{\n",
              "    x.observe(notebookContainer, {childList: true});\n",
              "}}\n",
              "\n",
              "// Listen for the clearing of the current output cell\n",
              "var outputEl = gd.closest('.output');\n",
              "if (outputEl) {{\n",
              "    x.observe(outputEl, {childList: true});\n",
              "}}\n",
              "\n",
              "                        })\n",
              "                };\n",
              "                \n",
              "            </script>\n",
              "        </div>\n",
              "</body>\n",
              "</html>"
            ]
          },
          "metadata": {
            "tags": []
          }
        }
      ]
    },
    {
      "cell_type": "markdown",
      "metadata": {
        "id": "a09dyknUM2QI",
        "colab_type": "text"
      },
      "source": [
        "## Table leaderboard"
      ]
    },
    {
      "cell_type": "code",
      "metadata": {
        "id": "RK_QAeZMM4BQ",
        "colab_type": "code",
        "colab": {
          "base_uri": "https://localhost:8080/",
          "height": 190
        },
        "outputId": "5995f07c-6ca1-41e5-bef0-f3b6f5fd71e2"
      },
      "source": [
        "!pip install tabletext"
      ],
      "execution_count": 9,
      "outputs": [
        {
          "output_type": "stream",
          "text": [
            "Collecting tabletext\n",
            "  Downloading https://files.pythonhosted.org/packages/ed/53/4152a8c71531d4b09eb34cfd7cd18f3764a988de4dc9039405f8182dddb7/tabletext-0.1.tar.gz\n",
            "Building wheels for collected packages: tabletext\n",
            "  Building wheel for tabletext (setup.py) ... \u001b[?25l\u001b[?25hdone\n",
            "  Created wheel for tabletext: filename=tabletext-0.1-cp36-none-any.whl size=6023 sha256=63826c134149e40223a2f4b5b6eadbf700cad3628b9e4bdcd165e585683eae0d\n",
            "  Stored in directory: /root/.cache/pip/wheels/63/15/d8/897b137f43975c4f5f49139be65fee6dbeab6a3f88c1838f66\n",
            "Successfully built tabletext\n",
            "Installing collected packages: tabletext\n",
            "Successfully installed tabletext-0.1\n"
          ],
          "name": "stdout"
        }
      ]
    },
    {
      "cell_type": "code",
      "metadata": {
        "id": "hfJoJGEUM64_",
        "colab_type": "code",
        "colab": {
          "base_uri": "https://localhost:8080/",
          "height": 1000
        },
        "outputId": "2836df01-7e35-4c00-c30e-ff236b8928a3"
      },
      "source": [
        "import tabletext\n",
        "print(tabletext.to_text(c.most_common()))"
      ],
      "execution_count": 11,
      "outputs": [
        {
          "output_type": "stream",
          "text": [
            "┌────────────────┬───┐\n",
            "│ Sotarks        │ 3 │\n",
            "├────────────────┼───┤\n",
            "│ Petal          │ 2 │\n",
            "├────────────────┼───┤\n",
            "│ - ascended -   │ 2 │\n",
            "├────────────────┼───┤\n",
            "│ Nevo           │ 2 │\n",
            "├────────────────┼───┤\n",
            "│ SMOKELIND      │ 2 │\n",
            "├────────────────┼───┤\n",
            "│ Agatsu         │ 2 │\n",
            "├────────────────┼───┤\n",
            "│ Fall           │ 2 │\n",
            "├────────────────┼───┤\n",
            "│ Crissa         │ 2 │\n",
            "├────────────────┼───┤\n",
            "│ vikala         │ 1 │\n",
            "├────────────────┼───┤\n",
            "│ Mirash         │ 1 │\n",
            "├────────────────┼───┤\n",
            "│ ShirohaMyMommy │ 1 │\n",
            "├────────────────┼───┤\n",
            "│ -Aqua          │ 1 │\n",
            "├────────────────┼───┤\n",
            "│ Rosiie         │ 1 │\n",
            "├────────────────┼───┤\n",
            "│ Smoke          │ 1 │\n",
            "├────────────────┼───┤\n",
            "│ Chaoslitz      │ 1 │\n",
            "├────────────────┼───┤\n",
            "│ Sylvarus       │ 1 │\n",
            "├────────────────┼───┤\n",
            "│ Zer0-          │ 1 │\n",
            "├────────────────┼───┤\n",
            "│ Sarawatlism    │ 1 │\n",
            "├────────────────┼───┤\n",
            "│ lewski         │ 1 │\n",
            "├────────────────┼───┤\n",
            "│ [-Evil-]       │ 1 │\n",
            "├────────────────┼───┤\n",
            "│ Yumerios       │ 1 │\n",
            "├────────────────┼───┤\n",
            "│ Elinor         │ 1 │\n",
            "├────────────────┼───┤\n",
            "│ Blitzifyyy     │ 1 │\n",
            "├────────────────┼───┤\n",
            "│ emu1337        │ 1 │\n",
            "├────────────────┼───┤\n",
            "│ Stack          │ 1 │\n",
            "├────────────────┼───┤\n",
            "│ domSaur        │ 1 │\n",
            "├────────────────┼───┤\n",
            "│ Silent Rock    │ 1 │\n",
            "├────────────────┼───┤\n",
            "│ Doormat        │ 1 │\n",
            "├────────────────┼───┤\n",
            "│ Parachute      │ 1 │\n",
            "├────────────────┼───┤\n",
            "│ Krisom         │ 1 │\n",
            "├────────────────┼───┤\n",
            "│ Heilia         │ 1 │\n",
            "├────────────────┼───┤\n",
            "│ Yohanes        │ 1 │\n",
            "├────────────────┼───┤\n",
            "│ X Light        │ 1 │\n",
            "├────────────────┼───┤\n",
            "│ Seolv          │ 1 │\n",
            "├────────────────┼───┤\n",
            "│ Setu           │ 1 │\n",
            "├────────────────┼───┤\n",
            "│ Moko           │ 1 │\n",
            "├────────────────┼───┤\n",
            "│ UberFazz       │ 1 │\n",
            "├────────────────┼───┤\n",
            "│ -Atri-         │ 1 │\n",
            "├────────────────┼───┤\n",
            "│ Xandit         │ 1 │\n",
            "├────────────────┼───┤\n",
            "│ Lunala         │ 1 │\n",
            "├────────────────┼───┤\n",
            "│ -Mikan         │ 1 │\n",
            "├────────────────┼───┤\n",
            "│ Mordred        │ 1 │\n",
            "├────────────────┼───┤\n",
            "│ Hachiko        │ 1 │\n",
            "├────────────────┼───┤\n",
            "│ Akino Hana     │ 1 │\n",
            "├────────────────┼───┤\n",
            "│ Daycore        │ 1 │\n",
            "├────────────────┼───┤\n",
            "│ papple104      │ 1 │\n",
            "├────────────────┼───┤\n",
            "│ Toyosaki Aki   │ 1 │\n",
            "├────────────────┼───┤\n",
            "│ wafer          │ 1 │\n",
            "├────────────────┼───┤\n",
            "│ Amateurre      │ 1 │\n",
            "├────────────────┼───┤\n",
            "│ DuckRadio      │ 1 │\n",
            "├────────────────┼───┤\n",
            "│ AirinCat       │ 1 │\n",
            "├────────────────┼───┤\n",
            "│ Frostings      │ 1 │\n",
            "├────────────────┼───┤\n",
            "│ Sephira        │ 1 │\n",
            "├────────────────┼───┤\n",
            "│ dkblaze        │ 1 │\n",
            "├────────────────┼───┤\n",
            "│ browiec        │ 1 │\n",
            "├────────────────┼───┤\n",
            "│ SaltyLucario   │ 1 │\n",
            "├────────────────┼───┤\n",
            "│ Luscent        │ 1 │\n",
            "├────────────────┼───┤\n",
            "│ Hey lululu     │ 1 │\n",
            "├────────────────┼───┤\n",
            "│ Akito          │ 1 │\n",
            "├────────────────┼───┤\n",
            "│ Melwoine       │ 1 │\n",
            "├────────────────┼───┤\n",
            "│ Addy2607       │ 1 │\n",
            "├────────────────┼───┤\n",
            "│ HeTo           │ 1 │\n",
            "├────────────────┼───┤\n",
            "│ SuperDalouBot  │ 1 │\n",
            "├────────────────┼───┤\n",
            "│ Roger          │ 1 │\n",
            "├────────────────┼───┤\n",
            "│ Cellina        │ 1 │\n",
            "└────────────────┴───┘\n"
          ],
          "name": "stdout"
        }
      ]
    }
  ]
}